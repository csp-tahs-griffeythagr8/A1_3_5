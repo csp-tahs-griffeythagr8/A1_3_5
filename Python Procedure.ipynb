{
 "cells": [
  {
   "cell_type": "code",
   "execution_count": null,
   "metadata": {},
   "outputs": [],
   "source": [
    "'''\n",
    "A1.3.5 Reece Westhoff.py\n",
    "Programmer: Reece Westhoff\n",
    "Understanding how strings function in python.\n",
    "'''\n",
    "essay= input('Please enter essay: ')\n",
    "def how_eligible(essay):\n",
    "    eligible = 0\n",
    "    if '?' in essay:\n",
    "        eligible += 1\n",
    "    if '!' in essay:\n",
    "        eligible += 1\n",
    "    if '\"\"' in essay:\n",
    "        eligible += 1\n",
    "        print('true')\n",
    "    if ',' in essay:\n",
    "        eligible += 1\n",
    "    print (eligible)\n",
    "\n",
    "how_eligible(essay)"
   ]
  }
 ],
 "metadata": {
  "kernelspec": {
   "display_name": "Python 3",
   "language": "python",
   "name": "python3"
  },
  "language_info": {
   "codemirror_mode": {
    "name": "ipython",
    "version": 3
   },
   "file_extension": ".py",
   "mimetype": "text/x-python",
   "name": "python",
   "nbconvert_exporter": "python",
   "pygments_lexer": "ipython3",
   "version": "3.7.4"
  }
 },
 "nbformat": 4,
 "nbformat_minor": 2
}
