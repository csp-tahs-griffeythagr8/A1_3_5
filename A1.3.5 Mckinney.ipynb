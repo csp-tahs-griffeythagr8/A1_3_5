{
 "cells": [
  {
   "cell_type": "code",
   "execution_count": 7,
   "metadata": {},
   "outputs": [
    {
     "name": "stdout",
     "output_type": "stream",
     "text": [
      "please enter essay:____ \"This? \"Yes.\" No, not really!\"\n",
      "3\n"
     ]
    }
   ],
   "source": [
    "\n",
    "essay = input(\"please enter essay:____ \")\n",
    "def how_eligible(essay):\n",
    "    eligible = 0\n",
    "    if \"!\" in essay:         #if there is a exlamation point it will go down into the level right below it\n",
    "        eligible = eligible +1         # if there is an exlamation point it will go to this line and add a point to eligible\n",
    "    if \"\\\"\\\"\" in essay:\n",
    "        eligible = eligible +1\n",
    "    if \",\" in essay:\n",
    "        eligible = eligible +1\n",
    "    if \"?\" in essay:\n",
    "        eligible = eligible +1\n",
    "    if \";\" in essay:\n",
    "        eligible = eligible +1\n",
    "   \n",
    "    print(eligible)\n",
    "\n",
    "how_eligible(essay)\n",
    "            \n",
    "        "
   ]
  },
  {
   "cell_type": "code",
   "execution_count": null,
   "metadata": {},
   "outputs": [],
   "source": []
  },
  {
   "cell_type": "code",
   "execution_count": null,
   "metadata": {},
   "outputs": [],
   "source": []
  }
 ],
 "metadata": {
  "kernelspec": {
   "display_name": "Python 3",
   "language": "python",
   "name": "python3"
  },
  "language_info": {
   "codemirror_mode": {
    "name": "ipython",
    "version": 3
   },
   "file_extension": ".py",
   "mimetype": "text/x-python",
   "name": "python",
   "nbconvert_exporter": "python",
   "pygments_lexer": "ipython3",
   "version": "3.7.4"
  }
 },
 "nbformat": 4,
 "nbformat_minor": 2
}
